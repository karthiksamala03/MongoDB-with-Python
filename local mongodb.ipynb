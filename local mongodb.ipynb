{
 "cells": [
  {
   "cell_type": "code",
   "execution_count": 1,
   "id": "0fc295d7",
   "metadata": {},
   "outputs": [],
   "source": [
    "#for local mongo db\n",
    "#!python -m pip install pymongo"
   ]
  },
  {
   "cell_type": "code",
   "execution_count": 1,
   "id": "ed8bc2f3",
   "metadata": {},
   "outputs": [],
   "source": [
    "import pymongo"
   ]
  },
  {
   "cell_type": "code",
   "execution_count": 2,
   "id": "e28205b1",
   "metadata": {},
   "outputs": [
    {
     "data": {
      "text/plain": [
       "MongoClient(host=['localhost:27017'], document_class=dict, tz_aware=False, connect=True)"
      ]
     },
     "execution_count": 2,
     "metadata": {},
     "output_type": "execute_result"
    }
   ],
   "source": [
    "DEFAULT_CONNECTION_URL = \"mongodb://localhost:27017\"\n",
    "\n",
    "# Establishing a connection with mongoDB\n",
    "client = pymongo.MongoClient(DEFAULT_CONNECTION_URL)\n",
    "client\n"
   ]
  },
  {
   "cell_type": "code",
   "execution_count": 3,
   "id": "a28717b7",
   "metadata": {},
   "outputs": [
    {
     "data": {
      "text/plain": [
       "Database(MongoClient(host=['localhost:27017'], document_class=dict, tz_aware=False, connect=True), 'KARTHIK')"
      ]
     },
     "execution_count": 3,
     "metadata": {},
     "output_type": "execute_result"
    }
   ],
   "source": [
    "# create a DB\n",
    "DB_NAME = \"KARTHIK\"\n",
    "\n",
    "database = client[DB_NAME]\n",
    "database"
   ]
  },
  {
   "cell_type": "code",
   "execution_count": 4,
   "id": "cfc4760a",
   "metadata": {},
   "outputs": [
    {
     "data": {
      "text/plain": [
       "['KARTHIK', 'admin', 'config', 'local']"
      ]
     },
     "execution_count": 4,
     "metadata": {},
     "output_type": "execute_result"
    }
   ],
   "source": [
    "# lets see the existing databases list\n",
    "\n",
    "client.list_database_names()"
   ]
  },
  {
   "cell_type": "code",
   "execution_count": 32,
   "id": "323df649",
   "metadata": {},
   "outputs": [
    {
     "data": {
      "text/plain": [
       "Collection(Database(MongoClient(host=['localhost:27017'], document_class=dict, tz_aware=False, connect=True), 'KARTHIK'), 'test')"
      ]
     },
     "execution_count": 32,
     "metadata": {},
     "output_type": "execute_result"
    }
   ],
   "source": [
    "\n",
    "collection1 = database[\"test\"]\n",
    "collection1"
   ]
  },
  {
   "cell_type": "code",
   "execution_count": 34,
   "id": "19e69398",
   "metadata": {},
   "outputs": [
    {
     "data": {
      "text/plain": [
       "<pymongo.results.InsertOneResult at 0x265fd4871c0>"
      ]
     },
     "execution_count": 34,
     "metadata": {},
     "output_type": "execute_result"
    }
   ],
   "source": [
    "records = {'Company name':'iNeuron',\n",
    "          'Product':'Affordable AI',\n",
    "          'Course offered':'Full stack Data Science'}\n",
    "\n",
    "collection1.insert_one(records)"
   ]
  },
  {
   "cell_type": "code",
   "execution_count": 14,
   "id": "227a1807",
   "metadata": {},
   "outputs": [
    {
     "data": {
      "text/plain": [
       "<pymongo.results.InsertOneResult at 0x265fc69d610>"
      ]
     },
     "execution_count": 14,
     "metadata": {},
     "output_type": "execute_result"
    }
   ],
   "source": [
    "records = {'Company name':'iNeuron',\n",
    "          'Product':'Affordable AI',\n",
    "          'Course offered':'Full stack Data Science',\n",
    "          'name':['karthik','samala',1997,True]}\n",
    "\n",
    "collection1.insert_one(records)"
   ]
  },
  {
   "cell_type": "code",
   "execution_count": 15,
   "id": "647949cc",
   "metadata": {},
   "outputs": [
    {
     "data": {
      "text/plain": [
       "<pymongo.results.InsertOneResult at 0x265fc228ca0>"
      ]
     },
     "execution_count": 15,
     "metadata": {},
     "output_type": "execute_result"
    }
   ],
   "source": [
    "records = {'name':['karthik','samala',1997,True],\n",
    "          'dist_record':{'name':'karthik','course':'Full stack DS','payment':'completed'}}\n",
    "\n",
    "collection1.insert_one(records)"
   ]
  },
  {
   "cell_type": "markdown",
   "id": "242d189e",
   "metadata": {},
   "source": [
    "## insert multiple records"
   ]
  },
  {
   "cell_type": "code",
   "execution_count": 17,
   "id": "985ce4ab",
   "metadata": {},
   "outputs": [],
   "source": [
    "list_of_records = [\n",
    "    {'name':['karthik','samala',1997,True],\n",
    "    'dist_record':{'name':'karthik','course':'Full stack DS','payment':'completed'},\n",
    "    'nothing':['karthik','samala',1997,True]},\n",
    "    \n",
    "    {'name':['ram','raja',1991,True],\n",
    "    'dist_record':{'name':'ram','course':'Full stack DA','payment':'completed'}},\n",
    "    \n",
    "    {'Company name':'iNeuron',\n",
    "    'Product':'Affordable AI',\n",
    "    'Course offered':'Full stack Data Science'}\n",
    "]\n",
    "\n",
    "rec = collection1.insert_many(list_of_records)"
   ]
  },
  {
   "cell_type": "code",
   "execution_count": 18,
   "id": "ae017851",
   "metadata": {},
   "outputs": [
    {
     "name": "stdout",
     "output_type": "stream",
     "text": [
      "0:62cdcd19651b77c179cdde87\n",
      "1:62cdcd19651b77c179cdde88\n",
      "2:62cdcd19651b77c179cdde89\n"
     ]
    }
   ],
   "source": [
    "# lets print the unique ids of that we inserted\n",
    "inserted_ids = rec.inserted_ids\n",
    "\n",
    "for idx, unique_ids in enumerate(inserted_ids):\n",
    "    print(f'{idx}:{unique_ids}')"
   ]
  },
  {
   "cell_type": "markdown",
   "id": "5109b81a",
   "metadata": {},
   "source": [
    "### creating another collection with our own ids"
   ]
  },
  {
   "cell_type": "code",
   "execution_count": 36,
   "id": "94181174",
   "metadata": {},
   "outputs": [],
   "source": [
    "collection2 = 'collection2'\n",
    "faculties = database[collection2]\n",
    "list_of_records = [\n",
    "    {\"_id\":6,\n",
    "    \"company name\":\"wipro\",\n",
    "    \"faculty\":\"karthik\"},\n",
    "    \n",
    "    {\n",
    "        \"_id\":8,\n",
    "        \"company_name\":\"infosys\",\n",
    "        \"faculty\":\"venkat\"\n",
    "    }\n",
    "]\n",
    "\n",
    "rec = faculties.insert_many(list_of_records)"
   ]
  },
  {
   "cell_type": "markdown",
   "id": "93449622",
   "metadata": {},
   "source": [
    "## Find method in mongo db"
   ]
  },
  {
   "cell_type": "code",
   "execution_count": 37,
   "id": "59b5ae05",
   "metadata": {},
   "outputs": [
    {
     "name": "stdout",
     "output_type": "stream",
     "text": [
      "One of the document from collection2 collection is {'_id': 1, 'company name': 'wipro', 'faculty': 'karthik'}\n"
     ]
    }
   ],
   "source": [
    "find_first_record = faculties.find_one()\n",
    "\n",
    "print(f\"One of the document from {collection2} collection is {find_first_record}\")"
   ]
  },
  {
   "cell_type": "code",
   "execution_count": 38,
   "id": "2a049f38",
   "metadata": {},
   "outputs": [
    {
     "name": "stdout",
     "output_type": "stream",
     "text": [
      "One of the document from Collection(Database(MongoClient(host=['localhost:27017'], document_class=dict, tz_aware=False, connect=True), 'KARTHIK'), 'test') collection is <pymongo.results.InsertManyResult object at 0x00000265FDF05730>\n"
     ]
    }
   ],
   "source": [
    "find_first_record = faculties.find_one()\n",
    "\n",
    "print(f\"One of the document from {collection1} collection is {rec}\")"
   ]
  },
  {
   "cell_type": "code",
   "execution_count": null,
   "id": "70f9cb72",
   "metadata": {},
   "outputs": [],
   "source": []
  }
 ],
 "metadata": {
  "kernelspec": {
   "display_name": "Python 3 (ipykernel)",
   "language": "python",
   "name": "python3"
  },
  "language_info": {
   "codemirror_mode": {
    "name": "ipython",
    "version": 3
   },
   "file_extension": ".py",
   "mimetype": "text/x-python",
   "name": "python",
   "nbconvert_exporter": "python",
   "pygments_lexer": "ipython3",
   "version": "3.9.12"
  }
 },
 "nbformat": 4,
 "nbformat_minor": 5
}
